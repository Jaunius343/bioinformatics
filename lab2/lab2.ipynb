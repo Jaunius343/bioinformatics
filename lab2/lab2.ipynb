{
 "cells": [
  {
   "cell_type": "code",
   "execution_count": 24,
   "metadata": {},
   "outputs": [],
   "source": [
    "from Bio import SeqIO\n",
    "\n",
    "def read_sequences(input_file, debug):\n",
    "\n",
    "    # fastq_file = \"reads_for_analysis.fastq\"  # Replace with your FASTQ file path\n",
    "    fastq_file = input_file\n",
    "\n",
    "    sequences = SeqIO.parse(fastq_file, \"fastq\")\n",
    "\n",
    "    if debug:\n",
    "        # Iterate through the sequences in the FASTQ file\n",
    "        for record in sequences:\n",
    "            # Access sequence data and quality scores\n",
    "            sequence = str(record.seq)\n",
    "            quality = record.letter_annotations[\"phred_quality\"]\n",
    "\n",
    "            # Do something with the sequence and quality data\n",
    "            print(f\"Header: {record.id}\")\n",
    "            print(f\"Sequence: {sequence}\")\n",
    "            print(f\"Quality: {quality}\")\n",
    "\n",
    "            # print(f\"Sequence length: {len(sequence)}\")\n",
    "            # print(f\"Quality length: {len(quality)}\")\n",
    "            # break\n",
    "\n",
    "    return sequences"
   ]
  },
  {
   "cell_type": "code",
   "execution_count": 25,
   "metadata": {},
   "outputs": [
    {
     "name": "stdout",
     "output_type": "stream",
     "text": [
      "Quality encoding: Sanger Phred+33\n"
     ]
    }
   ],
   "source": [
    "# ilumina 1.5\n",
    "# ilumina 1.3\n",
    "# solexa\n",
    "# sanger\n",
    "# ilumina 1.8\n",
    "\n",
    "def detect_quality_encoding(quality_line):\n",
    "    # Illumina 1.5+ Phred+64 encoding\n",
    "    if all(67 <= ord(q) <= 104 for q in quality_line):\n",
    "        return \"Illumina 1.5+ Phred+64\"\n",
    "    # Illumina 1.3+ Phred+64 encoding\n",
    "    elif all(64 <= ord(q) <= 104 for q in quality_line):\n",
    "        return \"Illumina 1.3+ Phred+64\"\n",
    "    # Solexa Solexa+64 encoding\n",
    "    elif all(59 <= ord(q) <= 104 for q in quality_line):\n",
    "        return \"Solexa Solexa+64\"\n",
    "    # Sanger Phred+33 encoding\n",
    "    elif all(33 <= ord(q) <= 73 for q in quality_line):\n",
    "        return \"Sanger Phred+33\"\n",
    "    # Illumina 1.8+ Phred+33 encoding\n",
    "    elif all(33 <= ord(q) <= 74 for q in quality_line):\n",
    "        return \"Illumina 1.8+ Phred+33\"\n",
    "    else:\n",
    "        return \"Unknown\"\n",
    "\n",
    "# Example FASTQ quality line (replace with your actual quality line)\n",
    "quality_line = \"1>>1>AD1DF3@1BGGGGGGGGBGG3F3FGH3FG11B000AA00A/0/B1A1BF000DFFF22111B2FGHBB11BGHBGHB211FCCGHCBGBBC00B11FFFDBEE1BGG22@GHHBGB1FGFGH2GB1GBFG?EEEAFHHGHFGHGH\"\n",
    "quality_line = \"ABBBBBBBBDAFFGGGGGGGGGGGGGHHFHHHHGGGGGHGGGGGHHGHHHGHGGHGHHGGGGC?EFHGGGGGHHGHCCFCDGGGGGAGHHGADCD.GGHHHEHGGGCGBHCC.;CCDFDBGGBGGGFAF?9FGEFFFFF/;FF/;DAB9B-\"\n",
    "\n",
    "encoding = detect_quality_encoding(quality_line)\n",
    "print(f\"Quality encoding: {encoding}\")\n"
   ]
  },
  {
   "cell_type": "code",
   "execution_count": 26,
   "metadata": {},
   "outputs": [],
   "source": [
    "def detect_all_quality_encoding(quality_line):\n",
    "    encodings = []\n",
    "\n",
    "    # Illumina 1.5+ Phred+64 encoding\n",
    "    if all(67 <= ord(q) <= 104 for q in quality_line):\n",
    "        encodings.append(\"Illumina 1.5+ Phred+64\")\n",
    "    # Illumina 1.3+ Phred+64 encoding\n",
    "    if all(64 <= ord(q) <= 104 for q in quality_line):\n",
    "        encodings.append(\"Illumina 1.3+ Phred+64\")\n",
    "    # Solexa Solexa+64 encoding\n",
    "    if all(59 <= ord(q) <= 104 for q in quality_line):\n",
    "        encodings.append(\"Solexa Solexa+64\")\n",
    "    # Sanger Phred+33 encoding\n",
    "    if all(33 <= ord(q) <= 73 for q in quality_line):\n",
    "        encodings.append(\"Sanger Phred+33\")\n",
    "    # Illumina 1.8+ Phred+33 encoding\n",
    "    if all(33 <= ord(q) <= 74 for q in quality_line):\n",
    "        encodings.append(\"Illumina 1.8+ Phred+33\")\n",
    "\n",
    "    if not encodings:\n",
    "        encodings.append(\"Unknown\")\n",
    "\n",
    "    return encodings"
   ]
  },
  {
   "cell_type": "code",
   "execution_count": 27,
   "metadata": {},
   "outputs": [
    {
     "name": "stdout",
     "output_type": "stream",
     "text": [
      "Header: M00827:12:000000000-AEUNW:1:1101:12983:1610\n",
      "Sequence: TGCGTTTATTACATTACCTTCTATTATATTTGCTGACGAACCAACAGGTGCACTGGATTCTAAAAGTACTCAAGATTTATTAAAACGATTAACAAGAATGAATGAAGCATTTAAGTCTACAATTATTATGGTAACGCATGATCCTGTTGC\n",
      "Quality Line: 1>>1>AD1DF3@1BGGGGGGGGBGG3F3FGH3FG11B000AA00A/0/B1A1BF000DFFF22111B2FGHBB11BGHBGHB211FCCGHCBGBBC00B11FFFDBEE1BGG22@GHHBGB1FGFGH2GB1GBFG?EEEAFHHGHFGHGH\n",
      "Header: M00827:12:000000000-AEUNW:1:1101:16324:1777\n",
      "Sequence: AGGCGTTATCGTGGCGATGACGCTGGAAGAAGCGGAAGCGGCTGTTCACGATATGCTGGCGGGCAACGCTTTTGGCGACGCGGGTCATCGCATCGTTATCGAAGAGTTCCTCGATGGCGAAGAAGCGAGCTTTATCGTGATGGTGGACGGC\n",
      "Quality Line: ABBBBBBBBDAFFGGGGGGGGGGGGGHHFHHHHGGGGGHGGGGGHHGHHHGHGGHGHHGGGGC?EFHGGGGGHHGHCCFCDGGGGGAGHHGADCD.GGHHHEHGGGCGBHCC.;CCDFDBGGBGGGFAF?9FGEFFFFF/;FF/;DAB9B-\n"
     ]
    }
   ],
   "source": [
    "from Bio import SeqIO\n",
    "\n",
    "fastq_file = \"reads_for_analysis.fastq\"  # Replace with your FASTQ file path\n",
    "\n",
    "i= 0\n",
    "\n",
    "# Iterate through the sequences in the FASTQ file\n",
    "for record in SeqIO.parse(fastq_file, \"fastq\"):\n",
    "    # Access sequence data and quality scores\n",
    "    sequence = str(record.seq)\n",
    "    quality = record.letter_annotations[\"phred_quality\"]\n",
    "\n",
    "    # Get the original quality line with ASCII symbols\n",
    "    quality_line = \"\".join([chr(q + 33) for q in quality])\n",
    "\n",
    "    # Do something with the quality line\n",
    "    print(f\"Header: {record.id}\")\n",
    "    print(f\"Sequence: {sequence}\")\n",
    "    print(f\"Quality Line: {quality_line}\")\n",
    "    i+=1\n",
    "    if i == 2:\n",
    "        break\n"
   ]
  },
  {
   "cell_type": "code",
   "execution_count": 43,
   "metadata": {},
   "outputs": [],
   "source": [
    "def check_encodings(records, debug):\n",
    "    \"\"\" iterates SeqRecords object to check each record's encoding\n",
    "    \n",
    "        input: fastq sequences\n",
    "        output: dictionary of encodings \"\"\"\n",
    "\n",
    "    # Initialize an empty dictionary to store the counts\n",
    "    unique_strings = {}\n",
    "\n",
    "    encoding_counts = {\n",
    "        \"Illumina 1.5+ Phred+64\": 0,\n",
    "        \"Illumina 1.3+ Phred+64\": 0,\n",
    "        \"Solexa Solexa+64\": 0,\n",
    "        \"Sanger Phred+33\": 0,\n",
    "        \"Illumina 1.8+ Phred+33\": 0,\n",
    "        \"Unknown\": 0\n",
    "    }\n",
    "\n",
    "    # Iterate through the sequences in the FASTQ file\n",
    "    for record in records:\n",
    "        # Access sequence data and quality scores\n",
    "        sequence = str(record.seq)\n",
    "        quality = record.letter_annotations[\"phred_quality\"]\n",
    "\n",
    "        # Get the original quality line with ASCII symbols\n",
    "        quality_line = \"\".join([chr(q + 33) for q in quality])\n",
    "\n",
    "        if debug:\n",
    "            # Do something with the quality line\n",
    "            print(f\"Header: {record.id}\")\n",
    "            # print(f\"Sequence: {sequence}\")\n",
    "            print(f\"Quality Line: {quality_line}\")\n",
    "\n",
    "        \n",
    "            \n",
    "        # encoding = detect_quality_encoding(quality_line) \n",
    "        encodings = detect_all_quality_encoding(quality_line)\n",
    "\n",
    "        for encoding in encodings:\n",
    "            encoding_counts[encoding] += 1\n",
    "\n",
    "        # if debug:\n",
    "        #     print(f\"Encoding: {encoding}\")\n",
    "\n",
    "        # # Check if the string is in the dictionary, if not, add it\n",
    "        # if encoding not in unique_strings:\n",
    "        #     unique_strings[encoding] = 1\n",
    "        # else:\n",
    "        #     # If it's already in the dictionary, increment the count\n",
    "        #     unique_strings[encoding] += 1\n",
    "        \n",
    "\n",
    "    # return unique_strings\n",
    "    return encoding_counts"
   ]
  },
  {
   "cell_type": "code",
   "execution_count": 29,
   "metadata": {},
   "outputs": [],
   "source": [
    "from Bio import SeqIO\n",
    "import matplotlib.pyplot as plt\n",
    "from scipy.signal import find_peaks\n",
    "from collections import Counter\n",
    "import numpy as np\n",
    "\n",
    "\n",
    "def print_cg_ratio_hist(fastq_file):\n",
    "\n",
    "    # Inicializuojame kintamuosius rezultatams\n",
    "    total_reads = 0\n",
    "    cg_ratios = []\n",
    "    bin_count = 37\n",
    "\n",
    "    # Nuskaitome FASTQ failą ir skaičiuojame C/G santykį kiekviename reade\n",
    "    for record in SeqIO.parse(fastq_file, \"fastq\"):\n",
    "        sequence = str(record.seq)\n",
    "        c_count = sequence.count(\"C\")\n",
    "        g_count = sequence.count(\"G\")\n",
    "        cg_ratio = (c_count + g_count) / len(sequence) * 100\n",
    "        cg_ratios.append(cg_ratio)\n",
    "        total_reads += 1 \n",
    "\n",
    "    # Sudarome histogramą\n",
    "    plt.hist(cg_ratios, bins=bin_count, color='skyblue', edgecolor='black')\n",
    "    plt.title('C/G Nucleotide Ratio in Reads')\n",
    "    plt.xlabel('C/G Ratio (%)')\n",
    "    plt.ylabel('Number of Reads')\n",
    "\n",
    "    # Ieškome histogramos viršūnių\n",
    "    peaks, props = find_peaks(np.histogram(cg_ratios, bins=bin_count)[0], height=500)\n",
    "\n",
    "    print(f\"my peaks:\\n '{peaks}'\")\n",
    "    print(f\"\\n\\nmy peaks properties:\\n '{props}'\")\n",
    "\n",
    "    # Žymime viršūnes raudonai\n",
    "    plt.plot(np.histogram(cg_ratios, bins=bin_count)[1][peaks], np.histogram(cg_ratios, bins=bin_count)[0][peaks], \"ro\")\n",
    "    print(f\"peak point print X: {np.histogram(cg_ratios, bins=bin_count)[1][peaks]}\\n\")\n",
    "    print(f\"peak point print Y: {np.histogram(cg_ratios, bins=bin_count)[0][peaks]}\\n\")\n",
    "\n",
    "    # Išvedame rezultatus\n",
    "    plt.show()\n",
    "\n",
    "    # Išvedame bendrą informaciją\n",
    "    print(f\"Total Reads: {total_reads}\")\n",
    "    print(f\"Average C/G Ratio: {sum(cg_ratios) / total_reads:.2f}%\")\n",
    "    print(f\"Number of Peaks: {len(peaks)}\")\n"
   ]
  },
  {
   "cell_type": "code",
   "execution_count": 30,
   "metadata": {},
   "outputs": [],
   "source": [
    "from Bio import SeqIO\n",
    "import matplotlib.pyplot as plt\n",
    "from scipy.signal import find_peaks\n",
    "from collections import Counter\n",
    "import numpy as np\n",
    "\n",
    "\n",
    "def analyze_cg_ratio_in_fastq(sequences):\n",
    "\n",
    "    # Inicializuojame kintamuosius rezultatams\n",
    "    total_reads = 0\n",
    "    cg_ratios = []\n",
    "    bin_count = 37\n",
    "\n",
    "    # Nuskaitome FASTQ failą ir skaičiuojame C/G santykį kiekviename reade\n",
    "    for record in sequences:\n",
    "        sequence = str(record.seq)\n",
    "        c_count = sequence.count(\"C\")\n",
    "        g_count = sequence.count(\"G\")\n",
    "        cg_ratio = (c_count + g_count) / len(sequence) * 100\n",
    "        cg_ratios.append(cg_ratio)\n",
    "        total_reads += 1\n",
    "\n",
    "    peaks, _ = find_peaks(np.histogram(cg_ratios, bins=bin_count)[0], height=500)\n",
    "\n",
    "    print(f\"Total Reads: {total_reads}\")\n",
    "    print(f\"Average C/G Ratio: {sum(cg_ratios) / total_reads:.2f}%\")\n",
    "    print(f\"Number of Peaks: {len(peaks)}\")\n",
    "\n",
    "    X_Values_at_peaks = np.histogram(cg_ratios, bins=bin_count)[1][peaks]\n",
    "\n",
    "    return X_Values_at_peaks\n"
   ]
  },
  {
   "cell_type": "code",
   "execution_count": 39,
   "metadata": {},
   "outputs": [],
   "source": [
    "from Bio import SeqIO\n",
    "\n",
    "def find_sequences_for_blast(fastq_file, percent_list):\n",
    "\n",
    "    # List of C/G ratios you want to match\n",
    "    ratios_to_match = percent_list\n",
    "\n",
    "    # Initialize a dictionary to store records that match each ratio\n",
    "    matched_records = {ratio: [] for ratio in ratios_to_match}\n",
    "\n",
    "    # Nuskaitome FASTQ failą ir tikriname kiekvieną įrašą\n",
    "    for record in SeqIO.parse(fastq_file, \"fastq\"):\n",
    "        sequence = str(record.seq)\n",
    "        c_count = sequence.count(\"C\")\n",
    "        g_count = sequence.count(\"G\")\n",
    "        cg_ratio = (c_count + g_count) / len(sequence) * 100\n",
    "\n",
    "        # Check if the current record's ratio matches any of the target ratios\n",
    "        for ratio in ratios_to_match:\n",
    "            if abs(cg_ratio - ratio) < 0.2:  # Allowing for a small tolerance\n",
    "                matched_records[ratio].append(record)\n",
    "\n",
    "    # # Print the matching records for each ratio\n",
    "    # for ratio, records in matched_records.items():\n",
    "    #     print(f\"Records with C/G ratio {ratio:.2f}%:\")\n",
    "    #     for record in records:\n",
    "    #         print(f\"Header: {record.id}\")\n",
    "\n",
    "    # Store the first 5 records for each ratio\n",
    "    top_5_records = {ratio: records[:5] for ratio, records in matched_records.items()}\n",
    "\n",
    "    # Print the first 5 records for each ratio\n",
    "    # for ratio, records in top_5_records.items():\n",
    "    #     print(f\"Records with C/G ratio {ratio:.2f}% (Top 5):\")\n",
    "    #     for record in records:\n",
    "    #         # print(f\"Header: {record.id}\")\n",
    "    #         print(f\"Sequence: {record.seq}\")\n",
    "\n",
    "    # Print a summary of the counts\n",
    "    for ratio, records in matched_records.items():\n",
    "        print(f\"Number of records with C/G ratio {ratio:.2f}%: {len(records)}\")\n",
    "\n",
    "    # print(matched_records)\n",
    "    # print(top_5_records)\n",
    "    return top_5_records\n"
   ]
  },
  {
   "cell_type": "code",
   "execution_count": 32,
   "metadata": {},
   "outputs": [],
   "source": [
    "from Bio.Blast import NCBIWWW\n",
    "from Bio.Blast import NCBIXML\n",
    "from Bio import SeqIO\n",
    "import pandas as pd\n",
    "\n",
    "def blast_search(top_5_records):\n",
    "\n",
    "    # Lentelės antraštės\n",
    "    table_header = [\"Read ID\", \"Organism\"]\n",
    "\n",
    "    # Lentelės duomenys\n",
    "    result_table = []\n",
    "\n",
    "    for ratio, records in top_5_records.items():\n",
    "        print(f\"Records with C/G ratio {ratio:.2f}% (Top 5):\")\n",
    "        for record in records:\n",
    "            print(f\"Searching: {record.id}\")\n",
    "            # print(f\"Sequence: {record.seq}\")\n",
    "            query_sequence = str(record.seq)\n",
    "\n",
    "            # Atlikti BLAST paiešką naudojant NCBI BLAST servisą\n",
    "            result_handle = NCBIWWW.qblast(\"blastn\", \"nt\", query_sequence, megablast=True)\n",
    "\n",
    "            # Atlikti BLAST paiešką naudojant NCBI BLAST servisą\n",
    "            # result_handle = NCBIWWW.qblast(\n",
    "            #     \"blastn\",\n",
    "            #     \"nt\",\n",
    "            #     query_sequence,\n",
    "            #     megablast=True,\n",
    "            #     entrez_query=\"bacteria[orgn]\",  # Organizmas \"bacteria\"\n",
    "            # )\n",
    "\n",
    "            # Gauti BLAST rezultatus ir išgauti pirmą atitikmenį (jei jis yra)\n",
    "            blast_record = NCBIXML.read(result_handle)\n",
    "            if blast_record.alignments:\n",
    "                first_alignment = blast_record.alignments[0]\n",
    "                organism = first_alignment.hit_def.split()[1]  # Pirmasis žodis po \"bacteria\"\n",
    "\n",
    "                result_table.append([record.id, organism])\n",
    "\n",
    "    df = pd.DataFrame(result_table, columns=table_header)\n",
    "\n",
    "    return df\n",
    "\n",
    "# # Spausdinti rezultatų lentelę\n",
    "# print(\"\\t\".join(table_header))\n",
    "# for row in result_table:\n",
    "#     print(\"\\t\".join(row))\n"
   ]
  },
  {
   "cell_type": "markdown",
   "metadata": {},
   "source": [
    "# Main"
   ]
  },
  {
   "cell_type": "markdown",
   "metadata": {},
   "source": [
    "## Check encoding"
   ]
  },
  {
   "cell_type": "code",
   "execution_count": 44,
   "metadata": {},
   "outputs": [
    {
     "name": "stdout",
     "output_type": "stream",
     "text": [
      "\n",
      "\n",
      "encodings: \n",
      "{'Illumina 1.5+ Phred+64': 7139, 'Illumina 1.3+ Phred+64': 15311, 'Solexa Solexa+64': 17194, 'Sanger Phred+33': 25749, 'Illumina 1.8+ Phred+33': 25749, 'Unknown': 0}\n",
      "\n",
      "\n"
     ]
    }
   ],
   "source": [
    "# debug = True\n",
    "debug = False\n",
    "\n",
    "fasta_file = \"reads_for_analysis.fastq\"\n",
    "\n",
    "sequences = read_sequences(fasta_file, debug)\n",
    "\n",
    "encodings = check_encodings(sequences, debug)\n",
    "\n",
    "print(f\"\\n\\nencodings: \\n{encodings}\\n\\n\")"
   ]
  },
  {
   "cell_type": "markdown",
   "metadata": {},
   "source": [
    "## print C/G ratio graph"
   ]
  },
  {
   "cell_type": "code",
   "execution_count": 34,
   "metadata": {},
   "outputs": [
    {
     "name": "stdout",
     "output_type": "stream",
     "text": [
      "my peaks:\n",
      " '[13 20 27]'\n",
      "\n",
      "\n",
      "my peaks properties:\n",
      " '{'peak_heights': array([1945., 2247., 1109.])}'\n",
      "peak point print X: [33.04098801 50.83228924 68.62359048]\n",
      "\n",
      "peak point print Y: [1945 2247 1109]\n",
      "\n"
     ]
    },
    {
     "data": {
      "image/png": "[encoded data removed]",
      "text/plain": [
       "<Figure size 640x480 with 1 Axes>"
      ]
     },
     "metadata": {},
     "output_type": "display_data"
    },
    {
     "name": "stdout",
     "output_type": "stream",
     "text": [
      "Total Reads: 25749\n",
      "Average C/G Ratio: 47.85%\n",
      "Number of Peaks: 3\n"
     ]
    }
   ],
   "source": [
    "fasta_file = \"reads_for_analysis.fastq\"\n",
    "print_cg_ratio_hist(fasta_file)"
   ]
  },
  {
   "cell_type": "markdown",
   "metadata": {},
   "source": [
    "## find records for each peak"
   ]
  },
  {
   "cell_type": "code",
   "execution_count": 40,
   "metadata": {},
   "outputs": [
    {
     "name": "stdout",
     "output_type": "stream",
     "text": [
      "Total Reads: 25749\n",
      "Average C/G Ratio: 47.85%\n",
      "Number of Peaks: 3\n",
      "Number of records with C/G ratio 33.04%: 297\n",
      "Number of records with C/G ratio 50.83%: 526\n",
      "Number of records with C/G ratio 68.62%: 46\n"
     ]
    }
   ],
   "source": [
    "# debug = True\n",
    "debug = False\n",
    "\n",
    "fasta_file = \"reads_for_analysis.fastq\"\n",
    "\n",
    "sequences = read_sequences(fasta_file, debug)\n",
    "\n",
    "peak_percents = analyze_cg_ratio_in_fastq(sequences)\n",
    "\n",
    "top_5_records = find_sequences_for_blast(fasta_file, peak_percents)"
   ]
  },
  {
   "cell_type": "code",
   "execution_count": 36,
   "metadata": {},
   "outputs": [
    {
     "name": "stdout",
     "output_type": "stream",
     "text": [
      "Records with C/G ratio 33.04% (Top 5):\n",
      "Sequence: ATGAATTTATATGGATTTAAAGAGGCTTTACAAAATTCAACTTTACCTATGTTTGGTACATGCGCAGGATTAATAGTTCTAGCGCAAGATATAGTTGGTGAAGAAGGATACCTTAACAAGTTGAATATTACTGTACAACGAAACTCATTCG\n",
      "Sequence: AGCAAATCTGAATAATAAACAAGTTTAGTATAAGGTGGTGAGATAGTGGCTTCTCTTAAAGAAATAGATACTCGAATAAAATCAACCAAAAAAATGAAGCAGATTACGAAAGCGATGAACATGGTATCAAGTTCAAAACTTCGTAGAGCTG\n",
      "Sequence: GTGTGTTAGTACTTTCAGTCATATTGTTGTTTTCAATACCAACACCTGTTGCAGTAATTTTAATGGGCATTGCAGCATTGTTTACTGAAGCATTGGTGGGAGCAAATTATGCGATTGCAGTAGTTTTTATTACAATACAAGTTATTTTAAT\n",
      "Sequence: TTATAACGAATTAATCCGTAAGCAAAATCAAGAATTAGATGAGAAGCAACCAGAATTACCTTATATCGTTGTCATTGTAGATGAGCTTGCAGATTTAATGATGGTAGCTGGTAAAGAAGTTGAAAATGCGATTCAACGTATTACACAAATG\n",
      "Sequence: TGATAGTGAGAATCATTATCAATTAGGTAACACACAATATTATAGAATTTTAAATTTGAGGAGGAAGCGCTTTTGATTGAAAAAAGTCAAGCATGTCACGATTCATTGTTAGATTCTGTAGGGCAAACACCTATGGTTCAACTTCATCAAC\n",
      "Records with C/G ratio 50.83% (Top 5):\n",
      "Sequence: ATACATATAGTGAAAATAGAGGCGGAAATAGTTTTTCCGTACGGCGCTAAACAGCTCGCGTACCGTAGGCGGCGTCGCGCGCGTGGCATCGTCTTCACCATAAACCAGCTCTTTACGGTAGGCAGCCTCTACACGCTGGTTTTTAAACTCC\n",
      "Sequence: TGTATCAGGAAAAAGGGCCGGAATTTCTCGACGACTTGCAGGGCATGTTTGCCTTTGCACTGTACGACAGCGAAAAAGATGCCTACCTGATTGGTCGCGACCATCTGGGGATCATCCCACTGTATATGGGGTATGACGAACACGGTCAGCT\n",
      "Sequence: TAACTGGCAGGGTGGAGTCGTGCCCCTGAACCGTCATGCCCAGCGAATCGCCCACCAGCATGACGTTAAGCCCTTCATCAGCAAAGAGTTTGGCGAAGCTATAGTCATAAGCGGTGATGGTCGCGAAACGTTTTTTTTCCTGTTTGTACTT\n",
      "Sequence: TGATGCGTCCCATCACTGAACCAGGCGTCTATTCCTCAGGCATTCCGCTGCAACCCAACAAAGTCTGGCGCAAAACCGCTGCACTGGTGATGAACATTGATGACATGAGCAAGCGTCTGAAATCGCTTGAGCGCAAGGTTAATCAACA\n",
      "Sequence: AAATACTTGCCGATTTACTGAATACGATCCCAGCCATCGATTCTACCGCTATGTCGCGTGCACAACGGCATATTGACGGGTTACTCAAACCTGTTGGTAGCCTGGGAAAGCTGGAGGTGCTTGCCATACAACTGGCAGGAATGCCGGGGTT\n",
      "Records with C/G ratio 68.62% (Top 5):\n",
      "Sequence: TAGGAGCCCAAGACCTTGAGGAAGGCCACCCGCCTGAGGAGGCGGAGGAGGGCCTGGGCGGGCCCGGGGTCCTCCAGGTGCCCCTCCAGGTCCAGGTAGAAGAGGTAGCTGAAGGGCTTGTCCCTCCGGGGCCTGGACTCCAGCTTGGTG\n",
      "Sequence: GGGTGGAGGTCGCCGTCTTGGACGAGGCGGACGAGATGCTCTCCATGGGCTTTGAGGAGGAGGTGGAGGCCCTCCTTTCCGCCACGCCCCCTTCCCGCCAGACCCTCCTCTTCTCCGCTACCCTCCCCTCCTGGGCCAAGAGGCTCGCCG\n",
      "Sequence: GCATCCCGGACCAGCCGGGCATCGCGGCCAAGGTCTTCCAGGCCCTGGCCGAGCGGGGCATCGCCGTGGACATGATCATCCAGGGGGTTCCCGGCCACGACCCCTCGAGGCAGCAGATGGCCTTCACGGTGAAGAAGGACTTCGCCCAGG\n",
      "Sequence: GGTGCACGCCCGGCTCGGCATCGGCCCCCGGGCCATGATCCCCGCCATGGGCATCGTGCAGGAGCTCTCCTTGGAGCACATGCGCATGGCCCTCAGGGGACACGAGGTCTACAGCGCCGTGGAGGCCTTTGAGAAGCTCGTGGCCATGG\n",
      "Sequence: TGGGTGAAGGTGGGCTCGTCCGTCTCGTTGTGCCCCCGGCGGCGGTAGCCCACGAGGTCAATGACCACGTCCTTGCCGTAGCGGCTCCGGTACTCCAGGGCGAGGGCGAGGACGAAGAGGAGCTCGTCCAGCGCCTCGGCGTTCACGTGG\n"
     ]
    }
   ],
   "source": [
    "# Print the first 5 records for each ratio\n",
    "for ratio, records in top_5_records.items():\n",
    "    print(f\"Records with C/G ratio {ratio:.2f}% (Top 5):\")\n",
    "    for record in records:\n",
    "        # print(f\"Header: {record.id}\")\n",
    "        print(f\"Sequence: {record.seq}\")"
   ]
  },
  {
   "cell_type": "markdown",
   "metadata": {},
   "source": [
    "## blast search"
   ]
  },
  {
   "cell_type": "code",
   "execution_count": 73,
   "metadata": {},
   "outputs": [
    {
     "name": "stdout",
     "output_type": "stream",
     "text": [
      "Records with C/G ratio 33.04% (Top 5):\n",
      "Searching: M00827:12:000000000-AEUNW:1:1101:21543:2685\n",
      "Searching: M00827:12:000000000-AEUNW:1:1101:15528:4371\n",
      "Searching: M00827:12:000000000-AEUNW:1:1101:8783:6057\n",
      "Searching: M00827:12:000000000-AEUNW:1:1101:13322:9270\n",
      "Searching: M00827:12:000000000-AEUNW:1:1101:11215:10798\n",
      "Records with C/G ratio 50.83% (Top 5):\n",
      "Searching: M00827:12:000000000-AEUNW:1:1101:18967:1954\n",
      "Searching: M00827:12:000000000-AEUNW:1:1101:22570:7694\n",
      "Searching: M00827:12:000000000-AEUNW:1:1101:15883:9393\n",
      "Searching: M00827:12:000000000-AEUNW:1:1101:8531:13712\n",
      "Searching: M00827:12:000000000-AEUNW:1:1101:22037:14458\n",
      "Records with C/G ratio 68.62% (Top 5):\n",
      "Searching: M00827:12:000000000-AEUNW:1:1101:9274:5136\n",
      "Searching: M00827:12:000000000-AEUNW:1:1101:4398:12181\n",
      "Searching: M00827:12:000000000-AEUNW:1:1101:26991:22721\n",
      "Searching: M00827:12:000000000-AEUNW:1:1101:14586:26916\n",
      "Searching: M00827:12:000000000-AEUNW:1:1102:24426:23876\n",
      "                                         Read ID      Organism\n",
      "0    M00827:12:000000000-AEUNW:1:1101:21543:2685        aureus\n",
      "1    M00827:12:000000000-AEUNW:1:1101:15528:4371        aureus\n",
      "2     M00827:12:000000000-AEUNW:1:1101:8783:6057        aureus\n",
      "3    M00827:12:000000000-AEUNW:1:1101:13322:9270        aureus\n",
      "4   M00827:12:000000000-AEUNW:1:1101:11215:10798        aureus\n",
      "5    M00827:12:000000000-AEUNW:1:1101:18967:1954          coli\n",
      "6    M00827:12:000000000-AEUNW:1:1101:22570:7694          coli\n",
      "7    M00827:12:000000000-AEUNW:1:1101:15883:9393          coli\n",
      "8    M00827:12:000000000-AEUNW:1:1101:8531:13712          coli\n",
      "9   M00827:12:000000000-AEUNW:1:1101:22037:14458          coli\n",
      "10    M00827:12:000000000-AEUNW:1:1101:9274:5136  thermophilus\n",
      "11   M00827:12:000000000-AEUNW:1:1101:4398:12181  thermophilus\n",
      "12  M00827:12:000000000-AEUNW:1:1101:26991:22721  thermophilus\n",
      "13  M00827:12:000000000-AEUNW:1:1101:14586:26916  thermophilus\n",
      "14  M00827:12:000000000-AEUNW:1:1102:24426:23876  thermophilus\n"
     ]
    }
   ],
   "source": [
    "result_table = blast_search(top_5_records)\n",
    "print(result_table)"
   ]
  },
  {
   "cell_type": "code",
   "execution_count": 74,
   "metadata": {},
   "outputs": [
    {
     "name": "stdout",
     "output_type": "stream",
     "text": [
      "                                         Read ID      Organism\n",
      "0    M00827:12:000000000-AEUNW:1:1101:21543:2685        aureus\n",
      "1    M00827:12:000000000-AEUNW:1:1101:15528:4371        aureus\n",
      "2     M00827:12:000000000-AEUNW:1:1101:8783:6057        aureus\n",
      "3    M00827:12:000000000-AEUNW:1:1101:13322:9270        aureus\n",
      "4   M00827:12:000000000-AEUNW:1:1101:11215:10798        aureus\n",
      "5    M00827:12:000000000-AEUNW:1:1101:18967:1954          coli\n",
      "6    M00827:12:000000000-AEUNW:1:1101:22570:7694          coli\n",
      "7    M00827:12:000000000-AEUNW:1:1101:15883:9393          coli\n",
      "8    M00827:12:000000000-AEUNW:1:1101:8531:13712          coli\n",
      "9   M00827:12:000000000-AEUNW:1:1101:22037:14458          coli\n",
      "10    M00827:12:000000000-AEUNW:1:1101:9274:5136  thermophilus\n",
      "11   M00827:12:000000000-AEUNW:1:1101:4398:12181  thermophilus\n",
      "12  M00827:12:000000000-AEUNW:1:1101:26991:22721  thermophilus\n",
      "13  M00827:12:000000000-AEUNW:1:1101:14586:26916  thermophilus\n",
      "14  M00827:12:000000000-AEUNW:1:1102:24426:23876  thermophilus\n"
     ]
    }
   ],
   "source": [
    "print(result_table)"
   ]
  }
 ],
 "metadata": {
  "kernelspec": {
   "display_name": "Python 3",
   "language": "python",
   "name": "python3"
  },
  "language_info": {
   "codemirror_mode": {
    "name": "ipython",
    "version": 3
   },
   "file_extension": ".py",
   "mimetype": "text/x-python",
   "name": "python",
   "nbconvert_exporter": "python",
   "pygments_lexer": "ipython3",
   "version": "3.11.5"
  }
 },
 "nbformat": 4,
 "nbformat_minor": 2
}
